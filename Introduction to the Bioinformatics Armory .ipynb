{
 "cells": [
  {
   "cell_type": "markdown",
   "metadata": {},
   "source": [
    "## Introduction to the Bioinformatics Armory"
   ]
  },
  {
   "cell_type": "code",
   "execution_count": 13,
   "metadata": {
    "collapsed": false
   },
   "outputs": [
    {
     "name": "stdout",
     "output_type": "stream",
     "text": [
      "Introduction_to_the_Bioinformatics_Armory_.ipynb\n"
     ]
    }
   ],
   "source": [
    "!ls | grep \"Intro\" | sed -e 's/\\s/_/g'"
   ]
  },
  {
   "cell_type": "code",
   "execution_count": 14,
   "metadata": {
    "collapsed": false
   },
   "outputs": [
    {
     "name": "stdout",
     "output_type": "stream",
     "text": [
      "TTATTAATGCGCCGGTTTACTCTGGGTAGCCACGTTATTTAAGGGCTTCAACTTAACGGATACGAATGTGCAGTAGATGTCATCACACCTTTGACCATGACCTCCATTATCTAGGCAAATCGAGTCCTTCGACGTCGATAGCTCAGATCGCCGTTCAGGAATTGCGCGCCGATGTGCTTAATCGCAGTCGTTTACACAGGACGTTGTGGTTTGGTAGGAGACTGAACTGTTTTCACGGCTGTGGCAGTCTTACCCGCTAGGTAAGGCCGTCACTCCTTTGAGCAAAGGAGTCGTAGCTTTCCTTGAGATCGTCATTCTGGGGCTGTCAGAGCATGGAATCCAGTAAAAATCTGTCTTAATCCTGCGCGCATGATTCCCCAACTAAGGTATCGGACGGCAGAAAAATATCAAGAACCGTAGCACTCTATTATCCAGCTTACTGTTGCGACACGTGTACCATTACTAATGCTGTCGAGACCCTCGGGTGCTTGTTCAATGAGTCGACGCCTTTATTCCTCCAGTGGGCAACAGGGAAAAGACTTTCATGGAACTCACACGATGTGAGCGTCTCGAATTCAACTGGTTATTCCCGGGGTGGACCTCTGCCACCCTGCTGGAGGAGGGATTCGTCACGCGCTTGTTTTCGCTCCCAGATCTGTGGAGGTTCCTGGGATTTCCCAAATGATTGCCACGGGTCGGAGAACCTGGCACTACATAGCCCATGGGGTTAATTCTATGGGCCATGACGCCGCCTGCTCTTACACCTAAGGATGCGTAGATGAGCTTTAACCGGTAGCATGCATCAGATACCGGGCCCATCAGCGGCGTACTGTCGTGTGTTGTGTCCCAGTATATCGCGACGGAACGATGCGGAACGCATAGTTACCCGTGTCCTCGCCAGCTAATAAGAATAGACCCATACATA\n",
      "215 233 234 243\n"
     ]
    }
   ],
   "source": [
    "from collections import Counter\n",
    "seq = input()\n",
    "counter = Counter(seq)\n",
    "print(' '.join(map(str,[counter[\"A\"], counter['C'], counter['G'], counter['T']])))"
   ]
  },
  {
   "cell_type": "markdown",
   "metadata": {},
   "source": [
    "## GenBank Introduction"
   ]
  },
  {
   "cell_type": "markdown",
   "metadata": {},
   "source": [
    "NCBIで\"Elephantulus\"[Organism] のpublish date in 2007/09/20 ~ 2009/06/25検索結果（endosymbionts等を含まない結果）を出力"
   ]
  },
  {
   "cell_type": "code",
   "execution_count": 29,
   "metadata": {
    "collapsed": false
   },
   "outputs": [
    {
     "name": "stdout",
     "output_type": "stream",
     "text": [
      "53\n"
     ]
    }
   ],
   "source": [
    "from Bio import Entrez\n",
    "Entrez.email = \"kimoppy126@gmail.com\"\n",
    "handle = Entrez.esearch(db=\"nucleotide\", term='\"Elephantulus\"[Organism] AND (\"2007/09/20\"[PDAT] : \"2009/06/25\"[PDAT])')\n",
    "record = Entrez.read(handle)\n",
    "print(record[\"Count\"])"
   ]
  },
  {
   "cell_type": "markdown",
   "metadata": {},
   "source": [
    "## Data Formats"
   ]
  },
  {
   "cell_type": "code",
   "execution_count": 76,
   "metadata": {
    "collapsed": false
   },
   "outputs": [
    {
     "name": "stdout",
     "output_type": "stream",
     "text": [
      "JQ867090 NM_001025158 NR_073358 NM_001185098 JQ867082 GU292427 NM_214399 FJ817486 NM_002037 NM_001172751\n",
      "[SeqRecord(seq=Seq('CCAACATGAAGACCTTCCTCACCTTTGTCCTCCTTGCCATGGCGATGAGCATCG...CAG', SingleLetterAlphabet()), id='JQ867090.1', name='JQ867090.1', description='JQ867090.1 Hordeum vulgare subsp. vulgare clone 6F C hordein mRNA, complete cds', dbxrefs=[]), SeqRecord(seq=Seq('CTGCCTGGGGAGCCCCCCCGCCCCACATCCTGCCCCGCAAAAGGCAGCTTCACC...AAA', SingleLetterAlphabet()), id='NM_001025158.2', name='NM_001025158.2', description='NM_001025158.2 Homo sapiens CD74 molecule (CD74), transcript variant 3, mRNA', dbxrefs=[]), SeqRecord(seq=Seq('AGCACCACGACACCCAAGGAAGGGAGAAGGGAACGCAAGCGCGCGTGGGCCAGC...GTA', SingleLetterAlphabet()), id='NR_073358.1', name='NR_073358.1', description='NR_073358.1 Mus musculus autoimmune regulator (autoimmune polyendocrinopathy candidiasis ectodermal dystrophy) (Aire), transcript variant 13, non-coding RNA', dbxrefs=[]), SeqRecord(seq=Seq('AGCCCTCCAGGACAGGCTGCATCAGAAGAGGCCATCAAGCAGGTCTGTTCCAAG...AAA', SingleLetterAlphabet()), id='NM_001185098.1', name='NM_001185098.1', description='NM_001185098.1 Homo sapiens insulin (INS), transcript variant 3, mRNA', dbxrefs=[]), SeqRecord(seq=Seq('AACACCAATCCACTATGAAGACCTTCCTCATCTTTGCACTCCTCGTCATTGCGG...AAG', SingleLetterAlphabet()), id='JQ867082.1', name='JQ867082.1', description='JQ867082.1 Hordeum vulgare clone B19b-F4 B1 hordein mRNA, complete cds', dbxrefs=[]), SeqRecord(seq=Seq('ATGGCATTATTTACATTTCTTTTGGGTTTTTCAATAATCCTGCTAGGATTGACT...TAG', SingleLetterAlphabet()), id='GU292427.3', name='GU292427.3', description='GU292427.3 Bactrocera dorsalis clone F19 cytochrome P450 family 4 (CYP4) mRNA, complete cds', dbxrefs=[]), SeqRecord(seq=Seq('CAGTCTGCCCTCGAGCCCACCAGGAACGAAAGAGAGCTCCATCTGCCCTCCAGG...TTT', SingleLetterAlphabet()), id='NM_214399.1', name='NM_214399.1', description='NM_214399.1 Sus scrofa interleukin 6 (IL6), mRNA', dbxrefs=[]), SeqRecord(seq=Seq('CGCGTATTTCGTTTGAGCCAATACCAAGTAGACAGAACCAACAAATTCGACACC...AAA', SingleLetterAlphabet()), id='FJ817486.1', name='FJ817486.1', description='FJ817486.1 Malus hybrid cultivar flavanone 3-hydroxylase protein (F3H) mRNA, complete cds', dbxrefs=[]), SeqRecord(seq=Seq('AGAGCATCAGCAAGAGTAGCAGCGAGCAGCCGCGCTGGTGGCGGCGGCGCGTCG...GAA', SingleLetterAlphabet()), id='NM_002037.5', name='NM_002037.5', description='NM_002037.5 Homo sapiens FYN proto-oncogene, Src family tyrosine kinase (FYN), transcript variant 1, mRNA', dbxrefs=[]), SeqRecord(seq=Seq('ATGAACATCACAAACTGCACGACAGATGCCAGCATGGTTGTAAGGCCCAAGACA...TAG', SingleLetterAlphabet()), id='NM_001172751.1', name='NM_001172751.1', description='NM_001172751.1 Cavia porcellus 5-hydroxytryptamine receptor 1E (Htr1e), mRNA', dbxrefs=[])]\n",
      ">NM_001185098.1 Homo sapiens insulin (INS), transcript variant 3, mRNA\n",
      "AGCCCTCCAGGACAGGCTGCATCAGAAGAGGCCATCAAGCAGGTCTGTTCCAAGGGCCTT\n",
      "TGCGTCAGGTGGGCTCAGGATTCCAGGGTGGCTGGACCCCAGGCCCCAGCTCTGCAGCAG\n",
      "GGAGGACGTGGCTGGGCTCGTGAAGCATGTGGGGGTGAGCCCAGGGGCCCCAAGGCAGGG\n",
      "CACCTGGCCTTCAGCCTGCCTCAGCCCTGCCTGTCTCCCAGATCACTGTCCTTCTGCCAT\n",
      "GGCCCTGTGGATGCGCCTCCTGCCCCTGCTGGCGCTGCTGGCCCTCTGGGGACCTGACCC\n",
      "AGCCGCAGCCTTTGTGAACCAACACCTGTGCGGCTCACACCTGGTGGAAGCTCTCTACCT\n",
      "AGTGTGCGGGGAACGAGGCTTCTTCTACACACCCAAGACCCGCCGGGAGGCAGAGGACCT\n",
      "GCAGGTGGGGCAGGTGGAGCTGGGCGGGGGCCCTGGTGCAGGCAGCCTGCAGCCCTTGGC\n",
      "CCTGGAGGGGTCCCTGCAGAAGCGTGGCATTGTGGAACAATGCTGTACCAGCATCTGCTC\n",
      "CCTCTACCAGCTGGAGAACTACTGCAACTAGACGCAGCCCGCAGGCAGCCCCACACCCGC\n",
      "CGCCTCCTGCACCGAGAGAGATGGAATAAAGCCCTTGAACCAGCAAAA\n",
      "\n"
     ]
    }
   ],
   "source": [
    "from Bio import Entrez\n",
    "from Bio import SeqIO\n",
    "i = input()\n",
    "gen_ids = i.split(' ')\n",
    "seqs = []\n",
    "records = []\n",
    "Entrez.email = \"kimoppy126@gmail.com\"\n",
    "handle = Entrez.efetch(db='nucleotide', id=gen_ids, rettype=\"fasta\")\n",
    "record = list(SeqIO.parse(handle, 'fasta'))\n",
    "print(record)\n",
    "for i in record:\n",
    "    seqs.append(len(i.seq))\n",
    "    records.append(i)\n",
    "else:\n",
    "    ind = seqs.index(min(seqs)) \n",
    "    print(records[ind].format('fasta'))"
   ]
  },
  {
   "cell_type": "code",
   "execution_count": 73,
   "metadata": {
    "collapsed": false
   },
   "outputs": [
    {
     "name": "stdout",
     "output_type": "stream",
     "text": [
      ">NM_001185098.1 Homo sapiens insulin (INS), transcript variant 3, mRNA\n",
      "AGCCCTCCAGGACAGGCTGCATCAGAAGAGGCCATCAAGCAGGTCTGTTCCAAGGGCCTTTGCGTCAGGTGGGCTCAGGATTCCAGGGTGGCTGGACCCCAGGCCCCAGCTCTGCAGCAGGGAGGACGTGGCTGGGCTCGTGAAGCATGTGGGGGTGAGCCCAGGGGCCCCAAGGCAGGGCACCTGGCCTTCAGCCTGCCTCAGCCCTGCCTGTCTCCCAGATCACTGTCCTTCTGCCATGGCCCTGTGGATGCGCCTCCTGCCCCTGCTGGCGCTGCTGGCCCTCTGGGGACCTGACCCAGCCGCAGCCTTTGTGAACCAACACCTGTGCGGCTCACACCTGGTGGAAGCTCTCTACCTAGTGTGCGGGGAACGAGGCTTCTTCTACACACCCAAGACCCGCCGGGAGGCAGAGGACCTGCAGGTGGGGCAGGTGGAGCTGGGCGGGGGCCCTGGTGCAGGCAGCCTGCAGCCCTTGGCCCTGGAGGGGTCCCTGCAGAAGCGTGGCATTGTGGAACAATGCTGTACCAGCATCTGCTCCCTCTACCAGCTGGAGAACTACTGCAACTAGACGCAGCCCGCAGGCAGCCCCACACCCGCCGCCTCCTGCACCGAGAGAGATGGAATAAAGCCCTTGAACCAGCAAAA\n"
     ]
    }
   ],
   "source": [
    "from Bio import Entrez\n",
    "from Bio import SeqIO\n",
    "\n",
    "def genbank(ids):\n",
    "\tEntrez.email = \"adelq@sas.upenn.edu\"\n",
    "\tids = ids.replace(\" \", \", \")\n",
    "\n",
    "\t# Fetch data from GenBank server\n",
    "\thandle = Entrez.efetch(db=\"nucleotide\", id=ids, rettype=\"fasta\")\n",
    "\trecords = list(SeqIO.parse(handle, \"fasta\"))\n",
    "\n",
    "\t# Find shortest string\n",
    "\tmin = 9999999999\n",
    "\tid = 0\n",
    "\tfor i in range(len(records)):\n",
    "\t\tif len(records[i].seq) < min:\t\n",
    "\t\t\tmin = len(records[i].seq)\n",
    "\t\t\tid = i\n",
    "\n",
    "\t# Printing\n",
    "\tprint(\">\" + records[id].description)\n",
    "\tprint(records[id].seq)\n",
    "\n",
    "# Tests\n",
    "genbank(\"JQ867090 NM_001025158 NR_073358 NM_001185098 JQ867082 GU292427 NM_214399 FJ817486 NM_002037 NM_001172751\")"
   ]
  },
  {
   "cell_type": "markdown",
   "metadata": {},
   "source": [
    "## Introduction to Protein Databases"
   ]
  },
  {
   "cell_type": "code",
   "execution_count": null,
   "metadata": {
    "collapsed": true
   },
   "outputs": [],
   "source": []
  }
 ],
 "metadata": {
  "anaconda-cloud": {},
  "kernelspec": {
   "display_name": "Python [default]",
   "language": "python",
   "name": "python3"
  },
  "language_info": {
   "codemirror_mode": {
    "name": "ipython",
    "version": 3
   },
   "file_extension": ".py",
   "mimetype": "text/x-python",
   "name": "python",
   "nbconvert_exporter": "python",
   "pygments_lexer": "ipython3",
   "version": "3.5.2"
  }
 },
 "nbformat": 4,
 "nbformat_minor": 1
}
